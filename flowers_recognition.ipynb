{
  "nbformat": 4,
  "nbformat_minor": 0,
  "metadata": {
    "colab": {
      "name": "flowers_recognition.ipynb",
      "provenance": [],
      "collapsed_sections": [],
      "include_colab_link": true
    },
    "kernelspec": {
      "name": "python3",
      "display_name": "Python 3"
    },
    "accelerator": "GPU"
  },
  "cells": [
    {
      "cell_type": "markdown",
      "metadata": {
        "id": "view-in-github",
        "colab_type": "text"
      },
      "source": [
        "<a href=\"https://colab.research.google.com/github/ilyass200/flowers_recognition/blob/master/flowers_recognition.ipynb\" target=\"_parent\"><img src=\"https://colab.research.google.com/assets/colab-badge.svg\" alt=\"Open In Colab\"/></a>"
      ]
    },
    {
      "cell_type": "markdown",
      "metadata": {
        "id": "SiNFU695hQ-r",
        "colab_type": "text"
      },
      "source": [
        "#**Creating a colab session and authentication**# "
      ]
    },
    {
      "cell_type": "code",
      "metadata": {
        "id": "McjlcFbpKjqb",
        "colab_type": "code",
        "colab": {}
      },
      "source": [
        "     !pip install -U -q PyDrive ## you will have install for every colab session\n",
        "\n",
        "     from pydrive.auth import GoogleAuth\n",
        "     from pydrive.drive import GoogleDrive\n",
        "     from google.colab import auth\n",
        "     from oauth2client.client import GoogleCredentials\n",
        "\n",
        "     # 1. Authenticate and create the PyDrive client.\n",
        "     auth.authenticate_user()\n",
        "     gauth = GoogleAuth()\n",
        "     gauth.credentials = GoogleCredentials.get_application_default()\n",
        "     drive = GoogleDrive(gauth)"
      ],
      "execution_count": 0,
      "outputs": []
    },
    {
      "cell_type": "markdown",
      "metadata": {
        "id": "Kz_8wx7uh8IZ",
        "colab_type": "text"
      },
      "source": [
        "#**Load models**#"
      ]
    },
    {
      "cell_type": "code",
      "metadata": {
        "id": "9gU_U1InLDp4",
        "colab_type": "code",
        "colab": {}
      },
      "source": [
        "# load model 220\n",
        "flowers_recognition_model_test_220_data_00000_of_00001 = drive.CreateFile({'id':'1dBcPG6jHKzyugLb-4FIDiz90VW7PDL0s'})\n",
        "flowers_recognition_model_test_220_data_00000_of_00001.GetContentFile('flowers_recognition_model_test-220.data-00000-of-00001')\n",
        "\n",
        "flowers_recognition_model_test_220_index = drive.CreateFile({'id':'1CNfPZEDYKtb3aAbaWK3ZhiDyjClJW7lC'})\n",
        "flowers_recognition_model_test_220_index.GetContentFile('flowers_recognition_model_test-220.index')\n",
        "\n",
        "flowers_recognition_model_test_220_meta = drive.CreateFile({'id':'1sO3d6BNuUKqcSp_5pMycj7moVQoHEK-b'})\n",
        "flowers_recognition_model_test_220_meta.GetContentFile('flowers_recognition_model_test-220.meta')\n",
        "\n",
        "# load model 240\n",
        "flowers_recognition_model_test_240_data_00000_of_00001 = drive.CreateFile({'id':'1jqaxZhJTBNy6YWV0t60fT7-u_5yQRPVh'})\n",
        "flowers_recognition_model_test_240_data_00000_of_00001.GetContentFile('flowers_recognition_model_test-240.data-00000-of-00001')\n",
        "\n",
        "flowers_recognition_model_test_240_index = drive.CreateFile({'id':'1EV_C69N3kJr_i-I0xZfmLzSYKnZKqyrN'})\n",
        "flowers_recognition_model_test_240_index.GetContentFile('flowers_recognition_model_test-240.index')\n",
        "\n",
        "flowers_recognition_model_test_240_meta = drive.CreateFile({'id':'1LscrwEtYzYganLsxBymftsq15984aWbU'})\n",
        "flowers_recognition_model_test_240_meta.GetContentFile('flowers_recognition_model_test-240.meta')\n",
        "\n",
        "# load model 260 \n",
        "flowers_recognition_model_test_260_data_00000_of_00001 = drive.CreateFile({'id':'1Ux_tcZDZZLS5wJEOKhlacWHg0_0Swm-Y'})\n",
        "flowers_recognition_model_test_260_data_00000_of_00001.GetContentFile('flowers_recognition_model_test-260.data-00000-of-00001')\n",
        "\n",
        "flowers_recognition_model_test_260_index = drive.CreateFile({'id':'1vj-k3ZuufZsnGTjBRRQwf0Vrr302u5eW'})\n",
        "flowers_recognition_model_test_260_index.GetContentFile('flowers_recognition_model_test-260.index')\n",
        "\n",
        "flowers_recognition_model_test_260_meta = drive.CreateFile({'id':'1b8QvCKATpdgNDCydbnGCN5PrRqx1iZro'})\n",
        "flowers_recognition_model_test_260_meta.GetContentFile('flowers_recognition_model_test-260.meta')\n",
        "\n",
        "# load model 280\n",
        "flowers_recognition_model_test_280_data_00000_of_00001 = drive.CreateFile({'id':'1ym_gmd5sZb9ddKarLCjiFUkKYgKjGNhy'})\n",
        "flowers_recognition_model_test_280_data_00000_of_00001.GetContentFile('flowers_recognition_model_test-280.data-00000-of-00001')\n",
        "\n",
        "flowers_recognition_model_test_280_index = drive.CreateFile({'id':'19FJ6EfpLDOJvWBSPc3a7ObKm5rrNrNbA'})\n",
        "flowers_recognition_model_test_280_index.GetContentFile('flowers_recognition_model_test-280.index')\n",
        "\n",
        "flowers_recognition_model_test_280_meta = drive.CreateFile({'id':'1nYH0kODxObknuLxslMRgwFFxMUAS-yff'})\n",
        "flowers_recognition_model_test_280_meta.GetContentFile('flowers_recognition_model_test-280.meta')\n",
        "\n",
        "# load model 300\n",
        "flowers_recognition_model_test_300_data_00000_of_00001 = drive.CreateFile({'id':'13kh2TG2CoUDzsPRNOnNICmt4wRg7BhC6'})\n",
        "flowers_recognition_model_test_300_data_00000_of_00001.GetContentFile('flowers_recognition_model_test-300.data-00000-of-00001')\n",
        "\n",
        "flowers_recognition_model_test_300_index = drive.CreateFile({'id':'1ojeTx9b4eHlkAXjS-gkupl_-W5iwGZ6i'})\n",
        "flowers_recognition_model_test_300_index.GetContentFile('flowers_recognition_model_test-300.index')\n",
        "\n",
        "flowers_recognition_model_test_300_meta = drive.CreateFile({'id':'1vsfh7DHYLyOeEBiwE7y04pyVvUMWmCtP'})\n",
        "flowers_recognition_model_test_300_meta.GetContentFile('flowers_recognition_model_test-300.meta')\n",
        "\n",
        "# load checkpoint\n",
        "checkpoint = drive.CreateFile({'id':'1JPhnxa1LwrTLXVbMDpGy3BfBWylTdv8S'})\n",
        "checkpoint.GetContentFile('checkpoint')"
      ],
      "execution_count": 0,
      "outputs": []
    },
    {
      "cell_type": "markdown",
      "metadata": {
        "id": "amls-ld1iJHz",
        "colab_type": "text"
      },
      "source": [
        "#**Download an image below to get a prediction**#\n",
        "**type of flowers accepted :** *sunflower, dandelion, daisy, rose, tulip*"
      ]
    },
    {
      "cell_type": "code",
      "metadata": {
        "id": "ThnPiICzwuKb",
        "colab_type": "code",
        "colab": {}
      },
      "source": [
        "import IPython.display as ipd\n",
        "import tensorflow as tf\n",
        "from google.colab import files\n",
        "import numpy as np\n",
        "from PIL import Image\n",
        "\n",
        "\n",
        "file = files.upload()\n",
        "flower_name = list(file.keys())[0]\n",
        "\n",
        "tf.reset_default_graph()\n",
        "\n",
        "flower_types = ['sunflower','dandelion','daisy','rose','tulip']\n",
        "\n",
        "img = np.array(Image.open('01814_01_sunrichorangesum.jpg').resize((75,75)))\n",
        "img = img / 255\n",
        "\n",
        "\n",
        "with tf.Session() as sess:\n",
        "  sess.run(tf.global_variables_initializer())\n",
        "  model = tf.train.import_meta_graph('flowers_recognition_model_test-300.meta')\n",
        "  model.restore(sess,(tf.train.latest_checkpoint('./')))\n",
        "\n",
        "  graph = tf.get_default_graph()\n",
        "\n",
        "  softmax = graph.get_tensor_by_name('layer4/Softmax:0')\n",
        "  \n",
        "  x = graph.get_tensor_by_name('Placeholder:0')\n",
        "  y = graph.get_tensor_by_name('Placeholder_1:0')\n",
        "  prediction_arr = sess.run(softmax,feed_dict={x:[img]})\n",
        "  print('softmax prediction :'prediction_arr)\n",
        "  prediction = sess.run(tf.argmax(prediction_arr,1))[0]\n",
        "  print('flower type :',flower_types[prediction])\n",
        "  losses = graph.get_tensor_by_name('softmax_cross_entropy_loss/value:0')\n",
        "  acc = graph.get_tensor_by_name('ArgMax_1:0')\n",
        "\n",
        "    # uncomment the following line if you want the history of the graph \n",
        "  # [print(n.name) for n in tf.get_default_graph().as_graph_def().node]\n"
      ],
      "execution_count": 0,
      "outputs": []
    }
  ]
}